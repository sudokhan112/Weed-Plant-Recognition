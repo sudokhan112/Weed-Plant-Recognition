import numpy as np
import matplotlib.pyplot as plt
import cv2

img = cv2.imread('/home/sayem/Desktop/cs557_project/Final_project/pig052.jpg')
cv2.imshow("Image", img)
rows, cols, _ = img.shape
print(img.shape)

def plot_histogram(img,title):
    gray = cv2.cvtColor(img, cv2.COLOR_BGR2GRAY)
    plt.figure()
    plt.title(title)
    plt.xlabel("Gray level, a")
    plt.ylabel("# of Pixels with a, n(a)")
    plt.hist(gray.ravel(), 256, [0, 256])
    plt.show()

#plot_histogram(img,"Image Histogram")

""""
cv2.calcHist(images, channels, mask, histSize, ranges[, hist[, accumulate]])

images : it is the source image of type uint8 or float32. it should be given in square brackets, ie, "[img]".
channels : it is also given in square brackets. It is the index of channel for which we calculate histogram. For example, if input is grayscale image, its value is [0]. For color image, you can pass [0], [1] or [2] to calculate histogram of blue, green or red channel respectively.
mask : mask image. To find histogram of full image, it is given as "None". But if you want to find histogram of particular region of image, you have to create a mask image for that and give it as mask. (I will show an example later.)
histSize : this represents our BIN count. Need to be given in square brackets. For full scale, we pass [256].
ranges : this is our RANGE. Normally, it is [0,256].

img = cv2.imread('home.jpg',0)
hist = cv2.calcHist([img],[0],None,[256],[0,256])

hist is a 256x1 array, each value corresponds to number of pixels in that image with its corresponding pixel value.
"""
gray = cv2.cvtColor(img, cv2.COLOR_BGR2GRAY)
hist_gray = cv2.calcHist([gray],[0],None,[256],[0,256])
hist_blue = cv2.calcHist([img],[0],None,[256],[0,256])
hist_green = cv2.calcHist([img],[1],None,[256],[0,256])
hist_red = cv2.calcHist([img],[2],None,[256],[0,256])
#print(hist)


""""
Dividing h(a)=n(a)=hist by the total number of pixels in the image, the estimation of the probability is ob-
tained, i.e. p(a) = h(a)/M * N, where M and N are both sizes of the image.

"""

probability_pa = hist_gray/(rows*cols)
#print(probability_pa)

'''In our 8-bit RGB channel representation a ranges in [0, 255].'''

a = np.arange(256)
#print(a)

'''where m is the mean value of a, i.e. the average gray level
m = summation (a . pa)

The mean determines the average level of brightness, where low, high and
medium values indicate the degree of light which has impacted
the device.

'''
#mean
m = np.sum(a*probability_pa)
print("mean", m)


""" Let a be a random variable denoting gray levels, the nth moment of a about the mean is
defined as (Gonzalez & Woods, 2008):
meu_n(a) = summation ((a-m)^n * p(a))

Variance is a measure of gray-level contrast, where high values indicate dispersion of values around
the mean and low values are indicative of a high concentration
of values around the mean. 

"""
#1st moment
mu_1 = np.sum((a - m) * probability_pa)
print("1st moment mu1",mu_1)

#2nd moment
mu_2 = np.sum(np.power((a - m),2) * probability_pa)
print("2nd moment mu2 (variance)",mu_2)

#3rd moment
mu_3 = np.sum(np.power((a - m),3) * probability_pa)

#4th moment
mu_4 = np.sum(np.power((a - m),4) * probability_pa)

"""The skewness measures the asymmetry in the distribution. A right skewness is presented when the histo-
gram displays a large tail oriented towards high brightness values
and high concentration in the part of low brightness values (posi-
tive skewness). In the opposite case the skewness is negative.

skew = mu_3/(mu_2)^1.5
"""
skewness = mu_3/(np.power(mu_2,1.5))
print("skewness", skewness)
print("abs. skewness", np.absolute(skewness))

"""kurtosis provides information about the peakedness in the distri-
bution; low kurtosis indicates flat top parts in the histogram
around the mean but high values are indicative of peaks around
the mean with high slopes and large tails. Skewness and kurtosis
are both zero for Gaussian distributions.

kurtosis = mu4/mu2^2
"""
kurtosis = mu_4/(np.power(mu_2,2))
print("Kurtosis", kurtosis)



cv2.waitKey(0)